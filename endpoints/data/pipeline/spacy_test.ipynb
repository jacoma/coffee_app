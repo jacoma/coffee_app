{
 "cells": [
  {
   "cell_type": "code",
   "execution_count": 2,
   "metadata": {},
   "outputs": [],
   "source": [
    "import pandas as pd\n",
    "import os\n",
    "from tqdm import tqdm ###progress meter for for loops.\n",
    "import spacy\n",
    "from spacy.tokens import DocBin"
   ]
  },
  {
   "cell_type": "code",
   "execution_count": null,
   "metadata": {},
   "outputs": [],
   "source": [
    "nlp1 = spacy.load(r\"C:\\Users\\jacoma\\Downloads\\output\\model-best\") #load the best model"
   ]
  },
  {
   "cell_type": "code",
   "execution_count": 9,
   "metadata": {},
   "outputs": [],
   "source": [
    "def test_model(text):\n",
    "    doc = nlp1(text)\n",
    "    \n",
    "    spacy.displacy.render(doc, style=\"ent\", jupyter=True) # display in Jupyter"
   ]
  },
  {
   "cell_type": "code",
   "execution_count": null,
   "metadata": {},
   "outputs": [],
   "source": [
    "test_text = [\"Welcome to Peru, one of the fastest growing coffee countries in the world. Much of Peru's quick rise can be attributed to Peru’s ideal coffee growing environment. Over 75% of the coffee produced in Peru is shade grown at high altitude and is hand-picked by small lot farmers, making it some of the most sought-after coffee in the world.\",\n",
    "\"Huila and Cauca come together for a classic and layered cup. These two mountainous regions of Colombia have the altitude, soil, and small scale farms that make for some of the most prized coffees in Latin America. Expect delightful flavors of cocoa, caramel apple, and bing cherry.\",\n",
    "\"Arabica was the first coffee planted in Costa Rica toward the end of the 1700s. Although widespread cultivation in the country was slow, Costa Rica eventually became the first Central American country to have a coffee industry. By 1829, Costa Rican coffee was the desire of many foreign buyers, quickly surpassing Costa Rica's main exports (cacao, tobacco, sugar)\",\n",
    "\"Coffee was introduced to Brazil by French settlers in the early 18th century. Starting in the northern region of Brazil, coffee ​plantations began to expand down the coast, quickly surpassing sugar-cane, the predominant industry at that time. By 1840, Brazil was the largest coffee producer in the world.\",\n",
    "\"Legend has it that when Kaldi, a goat farmer from the 9th century, found his goats acting suspiciously jittery, he traced their liveliness to their consumption of mystery berries, also known as coffee cherries. And so the progression to modern day coffee slowly began...\",\n",
    "\"Coffee was introduced to Papua New Guinea when it was brought over from Jamaica’s Blue Mountain in the 1920s.Coffee from this region is often described as a lighter, more acidic coffee with subtle hints of fruit, often compared to an apple. It is grown in two regions: the Western Highlands and the Eastern Highlands.\",\n",
    "\"With over 500,000 farmers spanning across 2.2 million acres, coffee production in Colombia is deeply woven into culture. Unlike other areas that mass-produce, you'll find most of the coffee in Colombia is shade-grown and hand-picked, making it some of the highest quality coffee in the world.\",\n",
    "\"Indonesian geography is ideal for coffee growing. It’s located near the equator and has numerous mountainous regions across the islands which creates several coffee friendly micro-climates for growth. Now the fourth largest coffee producer in the world, Indonesia was the first place outside of Arabia and Ethiopia where coffee was widely cultivated​.\",\n",
    "\"Some of the best coffee in the world is grown in the highlands of Kenya. The high quality is attributed to the rich volcanic soil that gives nutrients to coffee plants. Kenyans take coffee cultivation very seriously, paying close attention throughout the perfected systematic process to ensure quality.\",\n",
    "\"First introduced in the 18th century by European missionaries, coffee in Guatemala has since grown to be the world's 10th largest coffee producing country. With exceptional coffee growing conditions like rich soil, dependable rains, and proper altitudes, coffee grown in Guatemala stands out as a leader among specialty coffee producers and coffee drinkers alike.\",\n",
    "\"Hondurans are immensely proud of their coffee and its history, with good reason! With a heavy mouthfeel reminiscent of milk and honey and tastes of dark chocolate and graham crackers, we knew at first sip that we had to share this special batch with our coffee travelers.\",\n",
    "\"Served black over ice, sweet fruit notes make their way to the forefront for a radiant brightness. We like to pair the notes of berry and candied lemon with summer sunshine and a dip in the closest body of water.\",\n",
    "\"This coffee’s fruity and floral qualities give it a classic Ethiopian natural flavor profile, with vibrant notes of sweet berries and soft rose. All balanced against a rich, smooth taste of milk chocolate. It’s the complex and flavorful single origin decaf we’ve all been waiting for.\",\n",
    "\"Mario Hervas left rose farming for coffee, planting heirloom Typica on his high-elevation farm El Meridiano. The cultivar, once found across the coffee-producing world, is now grown by just a handful of ambitious farmers. Though finicky to grow, Typica has the potential to produce a full-bodied coffee with sublime perfume. Mario’s keen eye for details and his farm’s location in the upper reaches of the Andes make for ideal conditions. Indeed, we swear that his beautifully sweet coffee has the aromatics of a just-picked rose.\",\n",
    "\"Were you to taste this year’s harvest from farmer Juan Quilla Laura, you might mistake its delicate florality for a washed Ethiopia. Such a profile expands our notion of what coffees from Peru can taste like. It has the expected sweetness of a South American coffee with floral notes and stone fruit brightness that add a beautiful new dimension.\",\n",
    "\"This single origin coffee makes a sparkling cold brew. Juicy citrus notes and a gentle herbaceousness bring a bright complexity that’s balanced with just the right sweetness.\",\n",
    "\"This deeply sweet single origin from farmer Pedro Nel Trujillo reminds us of why we love coffees from the Huila Department. The region is Colombia’s most productive, and the quality of its best coffees—caramel smoothness with just enough citric brightness to keep you on your toes—will convert you to them for life. While we’ve carried Pedro’s coffees since 2017, this is the first year we’re sharing a single-variety coffee of his. Comprising Caturra, the coffee has a tart dried-plum intensity and soft floral notes flickering in the background.\",\n",
    "\"When Jobneel Caceres and his wife, Fanny Yesselia Moreno, were living in the US, they purchased land high on Santa Bárbara Mountain in Honduras. They’d heard how the adverse conditions—chilly temperatures and frequent precipitation—stress coffee cherry in such a way that created complex flavor profiles that were like no other coffees in Honduras. Now, twelve years later, hectares of many varieties of coffee plants bow heavy with fruit at many different elevations. This particular lot is exclusively Catimor, creating a coffee that reveals a kaleidoscope of flavors and aromas and an intensely structured final cup.\",\n",
    "\"As welcome as a new book on a Sunday afternoon, a coffee like this one, with a syrupy full body and condensed brown-sugar sweetness, pulls us right in. What makes us return to it again and again is its pleasant complexity, with a pronounced brightness and floral and herbal notes lixke chamomile tea. Such a balanced coffee can only happen in the right conditions. The 2,000-member Café Occidente cooperative is located in Yacuanquer, a municipality perched on the side of the ever-active Galeras volcano. Farmers there benefit from incredibly high elevations, volcanic soils, and large, diurnal temperature swings.\",\n",
    "\"You may feel like it’s been a while since you’ve seen a Bolivian offering from us. In the past ten years there has been a 70% decrease in Bolivian coffee production, due in large part to a more lucrative crop: coca, which is legal to grow in Bolivia. But producers like Agricafe, who brings us this pristine cup, are committed to preserving the coffee traditions of their homeland. Unlike our more experimental single origins, this coffee was chosen for its ability to stop time. Grown from traditional varieties and processed to amplify the inherent smooth notes of cocoa and brown sugar, its a sharply focused snapshot of the region of Caranavi.\",\n",
    "\"Decaf should never feel like a concession. In fact, we consider this coffee a reward in its own right, especially given that its adherents drink it solely for its flavor. Sweet and satisfying, it is decaffeinated with the mind-boggling and chemical-free Swiss Water Process. Surprisingly versatile, this decaf performs well in just about all preparation methods, from espresso to pour over—our coffee team describes it as creamy and versatile with rich malt undertones.\",\n",
    "\"Known affectionately as our NOLA, our New Orleans–Style Iced Coffee is one of our most popular drinks year-round—and has been ever since our founder James Freeman started making it to sell at farmers markets in the San Francisco Bay Area. Casting around for a worthy iced-latte alternative, he stumbled upon the New Orleans tradition of serving sweet, milky coffee cut with chicory. To make our NOLA at home, we provide our whole-bean New Orleans–Style Coffee Blend and Ground Chicory, and a recipe to get you started. You just add the milk, sugar, ice, and a little bit of time.\",\n",
    "\"Bella Donovan is the wool sweater of our blends—comforting, cozy, and enveloping. Our most popular blend, Bella is a variation of the archetypal Moka-Java pairing, in which wild and jammy natural Ethiopian coffee beans find balance with more substantive coffees from Sumatra and Peru. It stands on the darker side of things, weathers the rigors of the automatic drip machine well, and stands up to milk or cream—though it is just as elegant black.\",\n",
    "\"Inspired by John Coltrane’s Giant Steps, this dense and substantial coffee is not unlike the jazz visionary's signature sheets of sound. Our darkest blend, made from organic coffees, is downright viscous in the cup. Just like Coltrane’s ability to cascade into high-pitched octaves with maximum control, this coffee’s inflections of stone fruit lighten without losing focus. Improvisations of milk or cream—in any proportion—shine.\",\n",
    "\"Three Africas marries the radiant fruit of two coffees from Ethiopia, one washed and one natural, with the balance and authority of a washed coffee from Uganda. Each component excels on its own, but together, they traverse boundaries. No matter the brew method, this organic coffee blend, which is our brightest, has good body and an approachable complexity that takes to cream well, but stands just as radiantly on its own.\",\n",
    "\"While many of our coffee blends are noteworthy for their sturdiness, the glassy and floral Beta Blend is cut from a different cloth. What began as a collaboration between our sourcing and digital teams has evolved into a delicate counterpoint to our heftier blends that is available for online purchase exclusively.\",\n",
    "\"Named for the building specs in our Mint Plaza cafe in San Francisco, this espresso blend is pure pleasure. We reverse-engineered a blue-collar Italian espresso blend (yes, Robusta!) with high-quality organic coffee to make a sturdy, crema-heavy, and unpretentious espresso. If Hayes Valley Espresso is like consuming a volume of In Search of Lost Time in liquid form, then 17ft Ceiling is like flipping through The New Yorker—edifying without being overly taxing.\",\n",
    "\"We developed our darkest espresso for the launch of our first brick-and-mortar in our friend Loring’s garage in Hayes Valley. Years later, it remains the standard espresso blend in all of our cafes. Lower-toned and minimally bright, Hayes Valley Espresso pulls a straight shot with a voluptuous tawny crema and a somewhat dangerous-looking viscosity. Milk, in any quantity, adds romance to the coffee’s brooding aspects, bringing out the inherent chocolate and adding a smooth, rounded touch.\",\n",
    "\"What’s in a name? Well, we’ve always been fans of the opascope, a beautiful tool for projecting handwriting and finely rendered artwork onto a larger surface. We could blab for hours about its quaint design, its bulky contours, its place in our childhood classrooms. But for expediency’s sake, let’s put it this way: The opascope is a tool for taking careful craftsmanship and opening it up for everyone to access and enjoy. Sound familiar? Available only online, Opascope Espresso is a refreshing addition to a lineup once dominated by dense, chocolatey selections. It yields an effervescent shot, packed with stripes of tropicalia.\"\n",
    "]"
   ]
  }
 ],
 "metadata": {
  "kernelspec": {
   "display_name": "Python 3.10.4 ('.venv': venv)",
   "language": "python",
   "name": "python3"
  },
  "language_info": {
   "codemirror_mode": {
    "name": "ipython",
    "version": 3
   },
   "file_extension": ".py",
   "mimetype": "text/x-python",
   "name": "python",
   "nbconvert_exporter": "python",
   "pygments_lexer": "ipython3",
   "version": "3.10.4"
  },
  "orig_nbformat": 4,
  "vscode": {
   "interpreter": {
    "hash": "3f2421afdc1d8b415618d4c58d844f9c91f3ddf02de0f7f0495c14b1d4f52109"
   }
  }
 },
 "nbformat": 4,
 "nbformat_minor": 2
}
